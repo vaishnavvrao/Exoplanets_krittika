{
 "cells": [
  {
   "cell_type": "code",
   "execution_count": 17,
   "metadata": {},
   "outputs": [],
   "source": [
    "import numpy as np\n",
    "import matplotlib.pyplot as plt\n",
    "from scipy.optimize import fsolve"
   ]
  },
  {
   "cell_type": "code",
   "execution_count": 23,
   "metadata": {},
   "outputs": [],
   "source": [
    "class system_parameters:\n",
    "    def __init__(self, r_star, r_planet, period, inclination, semi, ecc, omega):\n",
    "        #Taking inputs and initializing the required parameters for plotting the light curve for the system.\n",
    "        self.r_s= r_star\n",
    "        self.r_p= r_planet\n",
    "        self.P=period\n",
    "        self.i=inclination\n",
    "        self.a= semi*215.032 #from au to solar radii\n",
    "        self.e= ecc\n",
    "        self.w= np.pi*omega/180\n",
    "        self.Delta()\n",
    "        self.impact()\n",
    "        self.total_time()\n",
    "        self.time_f()\n",
    "        self.t_periastron()\n",
    "        \n",
    "    def Delta(self):\n",
    "        #Function to calculate delta\n",
    "        self.delta= (self.r_p/self.r_s)**2\n",
    "        \n",
    "    def total_time(self):\n",
    "        #Function to calculate the ratio of total transit time and period\n",
    "        t_Tc= ((self.P/np.pi*(self.r_s/self.a))*np.sqrt((1+self.delta)**2-(self.a*np.cos(np.deg2rad(self.i))/self.r_s)**2))/self.P\n",
    "        #The above transit time is for circular orbits. Now, to calculate for eccentric orbits.\n",
    "        temp1= 1- (self.b)**2\n",
    "        temp2= 1-(self.e)**2\n",
    "        temp3= 1+self.e*np.sin(self.w)\n",
    "        self.t_T= t_Tc*np.sqrt(temp1*temp2)/temp3\n",
    "        \n",
    "    def time_f(self):\n",
    "        #Function to calculate tf/P \n",
    "        self.t_f=self.t_T*np.sqrt((1-self.delta)**2-(self.a*np.cos(np.deg2rad(self.i))/self.r_s)**2)/np.sqrt((1+self.delta)**2-(self.a*np.cos(np.deg2rad(self.i))/self.r_s)**2)\n",
    "    \n",
    "    def impact(self):\n",
    "        #Function to calculate b\n",
    "        self.b= (self.a/self.r_s)*np.cos(np.deg2rad(self.i))\n",
    "    \n",
    "    def parameters(self):\n",
    "        print(self.r_s,self.r_p,self.P,self.i,self.a,self.delta,self.t_T,self.t_f, self.b)\n",
    "        \n",
    "    def t_periastron(self):\n",
    "        temp1= np.sqrt((1-self.e)/(1+self.e))\n",
    "        temp2= np.tan(self.w/2)\n",
    "        E= 2*np.arctan(temp1*temp2)\n",
    "        self.tp= (E- self.e*np.sin(E))/(2*np.pi)\n",
    "        if self.tp<0:\n",
    "            self.tp= 1+self.tp\n",
    "        print(self.tp)"
   ]
  },
  {
   "cell_type": "code",
   "execution_count": 24,
   "metadata": {},
   "outputs": [
    {
     "name": "stdout",
     "output_type": "stream",
     "text": [
      "0.8290487504513719\n"
     ]
    }
   ],
   "source": [
    "#Using the parameters of HD1397\n",
    "test= system_parameters(2.336,0.1026,11.53,90,0.1097,0.251,270)\n",
    "#test.parameters()"
   ]
  },
  {
   "cell_type": "code",
   "execution_count": 25,
   "metadata": {},
   "outputs": [],
   "source": [
    "def fun(tT,tf,d,m, x):\n",
    "    #Function to define a piece-wisely defined function for the basic light curve.\n",
    "    y=[]\n",
    "    for i in range(len(x)):\n",
    "        if x[i]<(0.5-tT/2):\n",
    "            y.append(1)\n",
    "        elif (0.5-tT/2)<=x[i]<(0.5-tf/2):\n",
    "            y.append(-m*x[i]+1+m*(0.5-tT/2))\n",
    "        elif (0.5-tf/2)<=x[i]<(0.5+tf/2):\n",
    "            y.append(1-d)\n",
    "        elif (0.5+tf/2)<=x[i]<(0.5+tT/2):\n",
    "            y.append(m*x[i]+1-m*(0.5+tT/2))\n",
    "        elif x[i]>=(0.5+tT/2):\n",
    "            y.append(1)\n",
    "    \n",
    "    arr=np.array(y)\n",
    "    \n",
    "    return arr\n",
    "    "
   ]
  },
  {
   "cell_type": "code",
   "execution_count": 26,
   "metadata": {},
   "outputs": [],
   "source": [
    "def light_curve(system):\n",
    "    #Function to plot the light curve based on the piece-wisely defined function.\n",
    "    new_lum= 1-(0.7*system.delta)\n",
    "    trans_time= (system.t_T-system.t_f)/2\n",
    "    m= (system.delta)/trans_time\n",
    "    \n",
    "    x = np.linspace(0,1, 50000)\n",
    "    y = fun(system.t_T,system.t_f,system.delta,m,x)\n",
    "    \n",
    "    #Plotting\n",
    "    plt.plot(x,y)\n",
    "    plt.xlabel(\"t/P\")\n",
    "    plt.ylabel(\"L/L_star\")\n",
    "    plt.xlim(0.4,0.6)\n",
    "    plt.ylim(0.994,1.001)\n",
    "    "
   ]
  },
  {
   "cell_type": "code",
   "execution_count": 27,
   "metadata": {},
   "outputs": [
    {
     "data": {
      "image/png": "[encoded data removed]",
      "text/plain": [
       "<Figure size 432x288 with 1 Axes>"
      ]
     },
     "metadata": {
      "needs_background": "light"
     },
     "output_type": "display_data"
    }
   ],
   "source": [
    "light_curve(test)"
   ]
  },
  {
   "cell_type": "code",
   "execution_count": 28,
   "metadata": {},
   "outputs": [],
   "source": [
    "def limb():\n",
    "    #Function to plot relative intensity as a function of angle.\n",
    "    u= 0.65 #sun\n",
    "    x= np.linspace(0,90, 100)\n",
    "    rel_intensity= 1-u*(1-np.cos(np.deg2rad(x)))\n",
    "    plt.plot(x, rel_intensity)\n",
    "    plt.xlim(0,100)\n",
    "    plt.xlabel(\"theta (deg)\")\n",
    "    plt.ylabel(\"Relative intensity\")\n",
    "    plt.title(\"Stellar limb darkening\")\n",
    "    "
   ]
  },
  {
   "cell_type": "code",
   "execution_count": 29,
   "metadata": {},
   "outputs": [
    {
     "data": {
      "image/png": "[encoded data removed]",
      "text/plain": [
       "<Figure size 432x288 with 1 Axes>"
      ]
     },
     "metadata": {
      "needs_background": "light"
     },
     "output_type": "display_data"
    }
   ],
   "source": [
    "limb()"
   ]
  },
  {
   "cell_type": "code",
   "execution_count": 30,
   "metadata": {},
   "outputs": [],
   "source": [
    "def limbfactor(t,tf):\n",
    "    #Function to calculate the limb darkening factor 'f' for some given time 't' of the transit\n",
    "    u=0.65\n",
    "    f=0\n",
    "    if t<0.5:\n",
    "        theta=(90-180*t)/tf\n",
    "        f= 1-u*(1-np.cos(np.deg2rad(theta))) \n",
    "    elif t>=0.5:\n",
    "        theta= (180*t-90)/tf\n",
    "        f= 1-u*(1-np.cos(np.deg2rad(theta)))\n",
    "    return f"
   ]
  },
  {
   "cell_type": "code",
   "execution_count": 31,
   "metadata": {
    "scrolled": true
   },
   "outputs": [
    {
     "name": "stdout",
     "output_type": "stream",
     "text": [
      "0.34999999999999887\n"
     ]
    }
   ],
   "source": [
    "print(limbfactor(0.5-test.t_f/2,test.t_f))"
   ]
  },
  {
   "cell_type": "code",
   "execution_count": 32,
   "metadata": {},
   "outputs": [],
   "source": [
    "def light_curve1(system):\n",
    "    #Function to plot the light curve with limb darkening.\n",
    "    d=limbfactor(0.5-system.t_f/2,system.t_f)*system.delta\n",
    "    lum= 1-d #lum at the start of the transit\n",
    "    trans_time= (system.t_T-system.t_f)/2\n",
    "    m= (d)/trans_time\n",
    "    \n",
    "    t=np.linspace(0,1,100000)\n",
    "    y = fun(system.t_T,system.t_f,d,m,t)\n",
    "    \n",
    "    for i in range(len(t)):\n",
    "        if (0.5-system.t_f/2)<t[i]<(0.5+system.t_f/2):\n",
    "            y[i]= y[i]+d -limbfactor(t[i], system.t_f)*system.delta\n",
    "    \n",
    "    print(t[np.where(y==min(y))]) \n",
    "    #plotting\n",
    "    fig = plt.figure()\n",
    "    #fig.set_facecolor('black')\n",
    "    ax1 = fig.add_subplot(111)\n",
    "\n",
    "    ax1.plot(t,y)\n",
    "    ax1.set_xlabel(\"t/P\")\n",
    "    #ax1.xaxis.label.set_fontsize(18)\n",
    "    ax1.set_ylabel(\"L/L_star\")\n",
    "    #ax1.yaxis.label.set_fontsize(18)\n",
    "    ax1.set_title(\"Observed luminosity\")\n",
    "    #ax1.title.set_fontsize(18)\n",
    "    #ax1.set_facecolor(\"black\")\n",
    "    #ax1.spines['bottom'].set_color('white')\n",
    "    #ax1.spines['top'].set_color('white') \n",
    "    #ax1.spines['right'].set_color('white')\n",
    "    #ax1.spines['left'].set_color('white')\n",
    "    #ax1.tick_params(axis='x', colors='white')\n",
    "    #ax1.tick_params(axis='y', colors='white')\n",
    "    #ax1.title.set_color('white')\n",
    "    #ax1.yaxis.label.set_color('white')\n",
    "    #ax1.xaxis.label.set_color('white')\n",
    "    #ax1.tick_params(axis='both', labelsize=12)\n",
    "    ax1.set_xlim(0.4,0.6)\n",
    "    #ax1.set_ylim(0.994,1.001)"
   ]
  },
  {
   "cell_type": "code",
   "execution_count": 33,
   "metadata": {
    "scrolled": true
   },
   "outputs": [
    {
     "name": "stdout",
     "output_type": "stream",
     "text": [
      "[0.499995 0.500005]\n"
     ]
    },
    {
     "data": {
      "image/png": "[encoded data removed]",
      "text/plain": [
       "<Figure size 432x288 with 1 Axes>"
      ]
     },
     "metadata": {
      "needs_background": "light"
     },
     "output_type": "display_data"
    }
   ],
   "source": [
    "light_curve1(test)"
   ]
  },
  {
   "cell_type": "code",
   "execution_count": 34,
   "metadata": {},
   "outputs": [],
   "source": [
    "def e_angle(E,t,e,tp):\n",
    "    #Function to calculate the roots of the transcendental equation. To get E\n",
    "    if t>tp:\n",
    "        return E- e*np.sin(E)- 2*np.pi*(t-tp)\n",
    "    else:\n",
    "        return E- e*np.sin(E)- 2*np.pi*(1-t+tp)"
   ]
  },
  {
   "cell_type": "code",
   "execution_count": 35,
   "metadata": {},
   "outputs": [],
   "source": [
    "def true_anomaly(f,E,e):\n",
    "    #Function to calculate the true anomaly given the eccentric anomaly\n",
    "    temp= np.sqrt((1+e)/(1-e))\n",
    "    return np.tan(f/2)- temp*np.tan(E/2)"
   ]
  },
  {
   "cell_type": "code",
   "execution_count": 42,
   "metadata": {},
   "outputs": [],
   "source": [
    "def limbfactor2(t, tf, e, a, w, R, tp):\n",
    "    #Function to calculate the limbfactor as a function of time (including eccentricity)\n",
    "    u=0.65\n",
    "    estimate= 2*np.pi*t\n",
    "    E= fsolve(e_angle, estimate, args=(t,e,tp))\n",
    "    true_ano= fsolve(true_anomaly, estimate, args=(E,e))\n",
    "    \n",
    "    temp= a*(1-e**2)\n",
    "    temp2= 1+ e*np.cos(true_ano)\n",
    "    r= temp/temp2\n",
    "    temp_angle= 1.5*np.pi- w- true_ano\n",
    "    \n",
    "    limb_theta= (-np.pi*r*np.sin(temp_angle))/(2*R)\n",
    "    #print(r*np.sin(temp_angle)/(R))\n",
    "    f= 1-u*(1-np.cos(limb_theta))\n",
    "    return f"
   ]
  },
  {
   "cell_type": "code",
   "execution_count": 43,
   "metadata": {},
   "outputs": [],
   "source": [
    "def light_curve2(system):\n",
    "    #Function to plot the light curve with limb darkening AND eccentricity.\n",
    "    \n",
    "    d=limbfactor2(0.5-system.t_f/2,system.t_f,system.e, system.a,system.w,system.r_s,system.tp)*system.delta\n",
    "    lum= 1-d #lum at the start of the transit\n",
    "    trans_time= (system.t_T-system.t_f)/2\n",
    "    m= (d)/trans_time\n",
    "    \n",
    "    t=np.linspace(0,1,100000)\n",
    "    y = fun(system.t_T,system.t_f,d,m,t)\n",
    "    \n",
    "    for i in range(len(t)):\n",
    "        if (0.5-system.t_f/2)<t[i]<(0.5+system.t_f/2):\n",
    "            y[i]= y[i]+d -limbfactor2(t[i], system.t_f, system.e,system.a,system.w,system.r_s,system.tp)*system.delta\n",
    "       \n",
    "    plt.plot(t,y)\n",
    "    plt.xlim(0.4,0.6)"
   ]
  },
  {
   "cell_type": "code",
   "execution_count": 44,
   "metadata": {},
   "outputs": [
    {
     "data": {
      "image/png": "[encoded data removed]",
      "text/plain": [
       "<Figure size 432x288 with 1 Axes>"
      ]
     },
     "metadata": {
      "needs_background": "light"
     },
     "output_type": "display_data"
    }
   ],
   "source": [
    "light_curve2(test)"
   ]
  },
  {
   "cell_type": "code",
   "execution_count": null,
   "metadata": {},
   "outputs": [],
   "source": []
  }
 ],
 "metadata": {
  "kernelspec": {
   "display_name": "Python 3",
   "language": "python",
   "name": "python3"
  },
  "language_info": {
   "codemirror_mode": {
    "name": "ipython",
    "version": 3
   },
   "file_extension": ".py",
   "mimetype": "text/x-python",
   "name": "python",
   "nbconvert_exporter": "python",
   "pygments_lexer": "ipython3",
   "version": "3.7.3"
  }
 },
 "nbformat": 4,
 "nbformat_minor": 2
}
