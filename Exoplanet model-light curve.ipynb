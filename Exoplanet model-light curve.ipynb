{
 "cells": [
  {
   "cell_type": "code",
   "execution_count": 22,
   "metadata": {},
   "outputs": [],
   "source": [
    "import numpy as np\n",
    "import matplotlib.pyplot as plt\n",
    "from astropy import units as u"
   ]
  },
  {
   "cell_type": "code",
   "execution_count": 23,
   "metadata": {},
   "outputs": [],
   "source": [
    "class system_parameters:\n",
    "    def __init__(self, r_star, r_planet, period, inclination, semi):\n",
    "        #Taking inputs and initializing the required parameters for plotting the light curve for the system.\n",
    "        self.r_s= r_star*u.Rsun\n",
    "        self.r_p= r_planet*u.Rsun\n",
    "        self.P=period*u.year\n",
    "        self.i=inclination\n",
    "        self.a= semi*u.Rsun\n",
    "        self.Delta()\n",
    "        self.total_time()\n",
    "        self.time_f()\n",
    "        \n",
    "    def Delta(self):\n",
    "        #Function to calculate delta\n",
    "        self.delta= (self.r_p/self.r_s)**2\n",
    "        \n",
    "    def total_time(self):\n",
    "        #Function to calculate the ratio of total transit time and period\n",
    "        self.t_T= ((self.P/np.pi*(self.r_s/self.a))*np.sqrt((1+self.delta)**2-(self.a*np.cos(np.deg2rad(self.i))/self.r_s)**2))/self.P\n",
    "        \n",
    "    def time_f(self):\n",
    "        #Function to calculate tf/P \n",
    "        self.t_f=self.t_T*np.sqrt((1-self.delta)**2-(self.a*np.cos(np.deg2rad(self.i))/self.r_s)**2)/np.sqrt((1+self.delta)**2-(self.a*np.cos(np.deg2rad(self.i))/self.r_s)**2)\n",
    "    \n",
    "    def parameters(self):\n",
    "        print(self.r_s,self.r_p,self.P,self.i,self.a,self.delta,self.t_T,self.t_f)"
   ]
  },
  {
   "cell_type": "code",
   "execution_count": 24,
   "metadata": {},
   "outputs": [
    {
     "name": "stdout",
     "output_type": "stream",
     "text": [
      "1.0 solRad 0.1 solRad 12.0 yr 90 1113.9 solRad 0.010000000000000002 0.0002886192522179985 0.00028290401950081036\n"
     ]
    }
   ],
   "source": [
    "#Using the parameters of the Sun and Jupiter\n",
    "test= system_parameters(1,0.1,12,90,1113.9)\n",
    "test.parameters()"
   ]
  },
  {
   "cell_type": "code",
   "execution_count": 64,
   "metadata": {},
   "outputs": [],
   "source": [
    "def fun(tT,tf,d,m, x):\n",
    "    #Function to define a piece-wisely defined function for the light curve.\n",
    "    y=[]\n",
    "    for i in range(len(x)):\n",
    "        if x[i]<(0.5-tT/2):\n",
    "            y.append(1)\n",
    "        elif (0.5-tT/2)<=x[i]<(0.5-tf/2):\n",
    "            y.append(-m*x[i]+1+m*(0.5-tT/2))\n",
    "        elif (0.5-tf/2)<=x[i]<(0.5+tf/2):\n",
    "            y.append(1-d)\n",
    "        elif (0.5+tf/2)<=x[i]<(0.5+tT/2):\n",
    "            y.append(m*x[i]+1-m*(0.5+tT/2))\n",
    "        elif x[i]>=(0.5+tT/2):\n",
    "            y.append(1)\n",
    "    \n",
    "    arr=np.array(y)\n",
    "    \n",
    "    return arr\n",
    "    "
   ]
  },
  {
   "cell_type": "code",
   "execution_count": 79,
   "metadata": {},
   "outputs": [],
   "source": [
    "def light_curve(system):\n",
    "    #Function to plot the light curve based on the piece-wisely defined function.\n",
    "    new_lum= 1-system.delta\n",
    "    trans_time= (system.t_T-system.t_f)/2\n",
    "    m= (system.delta)/trans_time\n",
    "    \n",
    "    x = np.linspace(0.5-system.t_T, 0.5+system.t_T, 2000)\n",
    "    y = fun(system.t_T,system.t_f,system.delta,m,x)\n",
    "    \n",
    "    #Plotting\n",
    "    plt.plot(x,y)\n",
    "    plt.xlabel(\"t/P\")\n",
    "    plt.ylabel(\"L/L_star\")"
   ]
  },
  {
   "cell_type": "code",
   "execution_count": 80,
   "metadata": {},
   "outputs": [
    {
     "data": {
      "image/png": "[encoded data removed]",
      "text/plain": [
       "<Figure size 432x288 with 1 Axes>"
      ]
     },
     "metadata": {
      "needs_background": "light"
     },
     "output_type": "display_data"
    }
   ],
   "source": [
    "light_curve(test)"
   ]
  },
  {
   "cell_type": "code",
   "execution_count": null,
   "metadata": {},
   "outputs": [],
   "source": []
  }
 ],
 "metadata": {
  "kernelspec": {
   "display_name": "Python 3",
   "language": "python",
   "name": "python3"
  },
  "language_info": {
   "codemirror_mode": {
    "name": "ipython",
    "version": 3
   },
   "file_extension": ".py",
   "mimetype": "text/x-python",
   "name": "python",
   "nbconvert_exporter": "python",
   "pygments_lexer": "ipython3",
   "version": "3.7.3"
  }
 },
 "nbformat": 4,
 "nbformat_minor": 2
}
