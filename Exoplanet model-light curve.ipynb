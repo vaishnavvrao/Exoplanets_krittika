{
 "cells": [
  {
   "cell_type": "code",
   "execution_count": 46,
   "metadata": {},
   "outputs": [],
   "source": [
    "import numpy as np\n",
    "import matplotlib.pyplot as plt\n",
    "from astropy import units as u"
   ]
  },
  {
   "cell_type": "code",
   "execution_count": 47,
   "metadata": {},
   "outputs": [],
   "source": [
    "class system_parameters:\n",
    "    def __init__(self, r_star, r_planet, period, inclination, semi):\n",
    "        #Taking inputs and initializing the required parameters for plotting the light curve for the system.\n",
    "        self.r_s= r_star\n",
    "        self.r_p= r_planet\n",
    "        self.P=period\n",
    "        self.i=inclination\n",
    "        self.a= semi\n",
    "        self.Delta()\n",
    "        self.total_time()\n",
    "        self.time_f()\n",
    "        self.impact()\n",
    "        \n",
    "    def Delta(self):\n",
    "        #Function to calculate delta\n",
    "        self.delta= (self.r_p/self.r_s)**2\n",
    "        \n",
    "    def total_time(self):\n",
    "        #Function to calculate the ratio of total transit time and period\n",
    "        self.t_T= ((self.P/np.pi*(self.r_s/self.a))*np.sqrt((1+self.delta)**2-(self.a*np.cos(np.deg2rad(self.i))/self.r_s)**2))/self.P\n",
    "        \n",
    "    def time_f(self):\n",
    "        #Function to calculate tf/P \n",
    "        self.t_f=self.t_T*np.sqrt((1-self.delta)**2-(self.a*np.cos(np.deg2rad(self.i))/self.r_s)**2)/np.sqrt((1+self.delta)**2-(self.a*np.cos(np.deg2rad(self.i))/self.r_s)**2)\n",
    "    \n",
    "    def impact(self):\n",
    "        #Function to calculate b\n",
    "        d= np.sqrt(self.delta)\n",
    "        a= (1-d)**2\n",
    "        b=(1+d)**2\n",
    "        c= (self.t_f/self.t_T)**2\n",
    "        d= (a-b*c)/(1-b)\n",
    "        self.b= np.sqrt(d)\n",
    "    \n",
    "    def parameters(self):\n",
    "        print(self.r_s,self.r_p,self.P,self.i,self.a,self.delta,self.t_T,self.t_f, self.b)"
   ]
  },
  {
   "cell_type": "code",
   "execution_count": 48,
   "metadata": {},
   "outputs": [
    {
     "name": "stdout",
     "output_type": "stream",
     "text": [
      "1 0.1 12 90 1113.9 0.010000000000000002 0.0002886192522179985 0.00028290401950081036 1.2956955683167768\n"
     ]
    }
   ],
   "source": [
    "#Using the parameters of the Sun and Jupiter\n",
    "test= system_parameters(1,0.1,12,90,1113.9)\n",
    "test.parameters()"
   ]
  },
  {
   "cell_type": "code",
   "execution_count": 49,
   "metadata": {},
   "outputs": [],
   "source": [
    "def fun(tT,tf,d,m, x):\n",
    "    #Function to define a piece-wisely defined function for the light curve.\n",
    "    y=[]\n",
    "    for i in range(len(x)):\n",
    "        if x[i]<(0.5-tT/2):\n",
    "            y.append(1)\n",
    "        elif (0.5-tT/2)<=x[i]<(0.5-tf/2):\n",
    "            y.append(-m*x[i]+1+m*(0.5-tT/2))\n",
    "        elif (0.5-tf/2)<=x[i]<(0.5+tf/2):\n",
    "            y.append(1-d)\n",
    "        elif (0.5+tf/2)<=x[i]<(0.5+tT/2):\n",
    "            y.append(m*x[i]+1-m*(0.5+tT/2))\n",
    "        elif x[i]>=(0.5+tT/2):\n",
    "            y.append(1)\n",
    "    \n",
    "    arr=np.array(y)\n",
    "    \n",
    "    return arr\n",
    "    "
   ]
  },
  {
   "cell_type": "code",
   "execution_count": 50,
   "metadata": {},
   "outputs": [],
   "source": [
    "def light_curve(system):\n",
    "    #Function to plot the light curve based on the piece-wisely defined function.\n",
    "    new_lum= 1-system.delta\n",
    "    trans_time= (system.t_T-system.t_f)/2\n",
    "    m= (system.delta)/trans_time\n",
    "    \n",
    "    x = np.linspace(0.5-system.t_T, 0.5+system.t_T, 4000)\n",
    "    y = fun(system.t_T,system.t_f,system.delta,m,x)\n",
    "    \n",
    "    #Plotting\n",
    "    plt.plot(x,y)\n",
    "    plt.xlabel(\"t/P\")\n",
    "    plt.ylabel(\"L/L_star\")\n",
    "    "
   ]
  },
  {
   "cell_type": "code",
   "execution_count": 51,
   "metadata": {},
   "outputs": [
    {
     "data": {
      "image/png": "[encoded data removed]",
      "text/plain": [
       "<Figure size 432x288 with 1 Axes>"
      ]
     },
     "metadata": {
      "needs_background": "light"
     },
     "output_type": "display_data"
    }
   ],
   "source": [
    "light_curve(test)"
   ]
  },
  {
   "cell_type": "code",
   "execution_count": 56,
   "metadata": {},
   "outputs": [],
   "source": [
    "def limb():\n",
    "    #Function to plot relative intensity as a function of angle.\n",
    "    u= 0.65\n",
    "    x= np.linspace(0,90, 100)\n",
    "    rel_intensity= 1-u*(1-np.cos(np.deg2rad(x)))\n",
    "    plt.plot(x, rel_intensity)\n",
    "    plt.xlim(0,100)\n",
    "    plt.xlabel(\"theta (deg)\")\n",
    "    plt.ylabel(\"Relative intensity\")\n",
    "    plt.title(\"Stellar limb darkening\")\n",
    "    "
   ]
  },
  {
   "cell_type": "code",
   "execution_count": 57,
   "metadata": {},
   "outputs": [
    {
     "data": {
      "image/png": "[encoded data removed]",
      "text/plain": [
       "<Figure size 432x288 with 1 Axes>"
      ]
     },
     "metadata": {
      "needs_background": "light"
     },
     "output_type": "display_data"
    }
   ],
   "source": [
    "limb()"
   ]
  },
  {
   "cell_type": "code",
   "execution_count": null,
   "metadata": {},
   "outputs": [],
   "source": []
  }
 ],
 "metadata": {
  "kernelspec": {
   "display_name": "Python 3",
   "language": "python",
   "name": "python3"
  },
  "language_info": {
   "codemirror_mode": {
    "name": "ipython",
    "version": 3
   },
   "file_extension": ".py",
   "mimetype": "text/x-python",
   "name": "python",
   "nbconvert_exporter": "python",
   "pygments_lexer": "ipython3",
   "version": "3.7.3"
  }
 },
 "nbformat": 4,
 "nbformat_minor": 2
}
