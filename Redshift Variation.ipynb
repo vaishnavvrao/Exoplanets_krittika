{
 "cells": [
  {
   "cell_type": "code",
   "execution_count": 1,
   "metadata": {},
   "outputs": [],
   "source": [
    "import numpy as np\n",
    "import matplotlib.pyplot as plt\n",
    "import astropy.units as u"
   ]
  },
  {
   "cell_type": "code",
   "execution_count": 5,
   "metadata": {},
   "outputs": [],
   "source": [
    "class system_parameters:\n",
    "    def __init__(self,vrad,k,r_star,r_planet,period,inclination,semi,rotation):\n",
    "        #Taking inputs and initializing the required parameters for plotting the radial velocity curve for the star.\n",
    "        self.v0= vrad\n",
    "        self.k_star= k\n",
    "        self.r_s= r_star\n",
    "        self.r_p= r_planet\n",
    "        self.P=period\n",
    "        self.i=inclination\n",
    "        self.a= semi\n",
    "        self.i_star=90\n",
    "        self.vrot= rotation\n",
    "        self.Delta()\n",
    "        self.total_time()\n",
    "        self.time_f()\n",
    "        self.impact()\n",
    "        \n",
    "    def Delta(self):\n",
    "        #Function to calculate delta\n",
    "        self.delta= (self.r_p/self.r_s)**2\n",
    "        \n",
    "    def total_time(self):\n",
    "        #Function to calculate the ratio of transit time to period\n",
    "        self.t_T= ((self.P/np.pi*(self.r_s/self.a))*np.sqrt((1+self.delta)**2-(self.a*np.cos(np.deg2rad(self.i))/self.r_s)**2))/self.P\n",
    "        \n",
    "    def time_f(self):\n",
    "        #Function to calculate t_f/P \n",
    "        self.t_f=self.t_T*np.sqrt((1-self.delta)**2-(self.a*np.cos(np.deg2rad(self.i))/self.r_s)**2)/np.sqrt((1+self.delta)**2-(self.a*np.cos(np.deg2rad(self.i))/self.r_s)**2)\n",
    "    \n",
    "    def impact(self):\n",
    "        #Function to calculate b\n",
    "        self.b= (self.a/self.r_s)*np.cos(np.deg2rad(self.i))\n",
    "        \n",
    "    def radvel(self):\n",
    "        #for circular orbits\n",
    "        t= np.linspace(0,1,100000)\n",
    "        #the basic sinusoidal radial velocity variation due to Keplers law\n",
    "        v= self.v0 + (self.k_star*np.sin(2*np.pi*t))*np.sin(np.deg2rad(self.i))\n",
    "        arr=np.array(v)\n",
    "        \n",
    "        #Adding the Rossiter- McLaughlin Effect\n",
    "        a_rm= 1/3* self.delta*self.vrot*np.sin(np.deg2rad(self.i_star))*np.sqrt(1-(self.b)**2)\n",
    "        v1=np.zeros(100000)\n",
    "        for i in range(len(t)):\n",
    "            if ((0.5-self.t_f/2)<t[i]<(0.5+self.t_f/2)):\n",
    "                v1[i]= a_rm*np.cos((np.pi*(2*t[i]-1+self.t_f))/(2*self.t_f))\n",
    "        \n",
    "        #Adding the two radial velocity arrays\n",
    "        rv= v+v1\n",
    "        \n",
    "        #Plotting\n",
    "        fig=plt.figure()\n",
    "        ax1= fig.add_subplot(2,1,1)\n",
    "        ax2= fig.add_subplot(2,1,2)\n",
    "        \n",
    "        ax1.plot(t,rv)\n",
    "        ax1.set_xlabel(\"t/P\")\n",
    "        ax1.set_ylabel(\"v_star (m/s)\")\n",
    "        ax1.set_title(\"Rossiter-McLaughlin Effect\")\n",
    "        \n",
    "        ax2.plot(t,rv)\n",
    "        ax2.set_xlabel(\"t/P\")\n",
    "        ax2.set_ylabel(\"v_star (m/s)\")\n",
    "        ax2.set_xlim(0.5-self.t_f,0.5+self.t_f)\n",
    "        \n"
   ]
  },
  {
   "cell_type": "code",
   "execution_count": 6,
   "metadata": {},
   "outputs": [],
   "source": [
    "#Using the parameters for Jupiter and the Sun.\n",
    "Sun=system_parameters(0,12,1,0.1,12,90,1113.9,2000)"
   ]
  },
  {
   "cell_type": "code",
   "execution_count": 7,
   "metadata": {},
   "outputs": [
    {
     "data": {
      "image/png": "[encoded data removed]",
      "text/plain": [
       "<Figure size 432x288 with 2 Axes>"
      ]
     },
     "metadata": {
      "needs_background": "light"
     },
     "output_type": "display_data"
    }
   ],
   "source": [
    "Sun.radvel()"
   ]
  },
  {
   "cell_type": "code",
   "execution_count": null,
   "metadata": {},
   "outputs": [],
   "source": []
  },
  {
   "cell_type": "code",
   "execution_count": null,
   "metadata": {},
   "outputs": [],
   "source": []
  }
 ],
 "metadata": {
  "kernelspec": {
   "display_name": "Python 3",
   "language": "python",
   "name": "python3"
  },
  "language_info": {
   "codemirror_mode": {
    "name": "ipython",
    "version": 3
   },
   "file_extension": ".py",
   "mimetype": "text/x-python",
   "name": "python",
   "nbconvert_exporter": "python",
   "pygments_lexer": "ipython3",
   "version": "3.7.3"
  }
 },
 "nbformat": 4,
 "nbformat_minor": 2
}
